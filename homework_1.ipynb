{
 "cells": [
  {
   "cell_type": "markdown",
   "metadata": {},
   "source": [
    "## Scenario\n",
    "\n",
    "This is a dummy dataset containing profit and expenditure information of startups. Idea is to predict profit of the startup and find out the most relevant predictor or combination of predictors for predicting the profit using simple linear regression and multiple linear regression.<br/> \n",
    "\n",
    "## Plan\n",
    "\n",
    "In this notebook, I will <br/>\n",
    "-Implement simple linear regression and multiple linear regression<br/>\n",
    "-Compute R2 and Adjusted R2 scores<br/>\n",
    "-Use linear regression for predicting an outcome as well as determining relevant predictors.<br/>\n",
    "\n",
    "## Dataset\n",
    "The dataset being used is the \"Startup Dataset\" available on Kaggle (https://www.kaggle.com/harsh45/startups-dataset<br/>\n",
    "The dataset has 50 rows and 5 columns. <br/>\n",
    "The data represents profit made by startups in 3 US states. Each row stands for a startup and has information on the expenditure of the startup (R&D spend, Administration, Marketing Spend) and state of the startup."
   ]
  },
  {
   "cell_type": "markdown",
   "metadata": {},
   "source": [
    "### Importing libraries"
   ]
  },
  {
   "cell_type": "code",
   "execution_count": 1,
   "metadata": {},
   "outputs": [],
   "source": [
    "import csv\n",
    "import numpy as np\n",
    "import pandas as pd"
   ]
  },
  {
   "cell_type": "markdown",
   "metadata": {},
   "source": [
    "Reading data from the downloaded .csv file."
   ]
  },
  {
   "cell_type": "code",
   "execution_count": 2,
   "metadata": {},
   "outputs": [
    {
     "name": "stdout",
     "output_type": "stream",
     "text": [
      "Shape of the dataset:  (50, 5)\n"
     ]
    },
    {
     "data": {
      "text/html": [
       "<div>\n",
       "<style scoped>\n",
       "    .dataframe tbody tr th:only-of-type {\n",
       "        vertical-align: middle;\n",
       "    }\n",
       "\n",
       "    .dataframe tbody tr th {\n",
       "        vertical-align: top;\n",
       "    }\n",
       "\n",
       "    .dataframe thead th {\n",
       "        text-align: right;\n",
       "    }\n",
       "</style>\n",
       "<table border=\"1\" class=\"dataframe\">\n",
       "  <thead>\n",
       "    <tr style=\"text-align: right;\">\n",
       "      <th></th>\n",
       "      <th>R&amp;D Spend</th>\n",
       "      <th>Administration</th>\n",
       "      <th>Marketing Spend</th>\n",
       "      <th>State</th>\n",
       "      <th>Profit</th>\n",
       "    </tr>\n",
       "  </thead>\n",
       "  <tbody>\n",
       "    <tr>\n",
       "      <td>0</td>\n",
       "      <td>165349.20</td>\n",
       "      <td>136897.80</td>\n",
       "      <td>471784.10</td>\n",
       "      <td>New York</td>\n",
       "      <td>192261.83</td>\n",
       "    </tr>\n",
       "    <tr>\n",
       "      <td>1</td>\n",
       "      <td>162597.70</td>\n",
       "      <td>151377.59</td>\n",
       "      <td>443898.53</td>\n",
       "      <td>California</td>\n",
       "      <td>191792.06</td>\n",
       "    </tr>\n",
       "    <tr>\n",
       "      <td>2</td>\n",
       "      <td>153441.51</td>\n",
       "      <td>101145.55</td>\n",
       "      <td>407934.54</td>\n",
       "      <td>Florida</td>\n",
       "      <td>191050.39</td>\n",
       "    </tr>\n",
       "    <tr>\n",
       "      <td>3</td>\n",
       "      <td>144372.41</td>\n",
       "      <td>118671.85</td>\n",
       "      <td>383199.62</td>\n",
       "      <td>New York</td>\n",
       "      <td>182901.99</td>\n",
       "    </tr>\n",
       "    <tr>\n",
       "      <td>4</td>\n",
       "      <td>142107.34</td>\n",
       "      <td>91391.77</td>\n",
       "      <td>366168.42</td>\n",
       "      <td>Florida</td>\n",
       "      <td>166187.94</td>\n",
       "    </tr>\n",
       "  </tbody>\n",
       "</table>\n",
       "</div>"
      ],
      "text/plain": [
       "   R&D Spend  Administration  Marketing Spend       State     Profit\n",
       "0  165349.20       136897.80        471784.10    New York  192261.83\n",
       "1  162597.70       151377.59        443898.53  California  191792.06\n",
       "2  153441.51       101145.55        407934.54     Florida  191050.39\n",
       "3  144372.41       118671.85        383199.62    New York  182901.99\n",
       "4  142107.34        91391.77        366168.42     Florida  166187.94"
      ]
     },
     "execution_count": 2,
     "metadata": {},
     "output_type": "execute_result"
    }
   ],
   "source": [
    "dataset_path = \"50_Startups.csv\"\n",
    "df = pd.read_csv(dataset_path)\n",
    "\n",
    "print('Shape of the dataset: ', df.shape)\n",
    "df.head()   #first look at the data"
   ]
  },
  {
   "cell_type": "markdown",
   "metadata": {},
   "source": [
    "We have 5 columns and 50 rows in the dataset. Comparitively a smaller dataset, with State as a categorical column and the remaining 4 as numeric columns."
   ]
  },
  {
   "cell_type": "markdown",
   "metadata": {},
   "source": [
    "## Data Exploration\n",
    "We can plot a histogram of the dataframe to understand the distributions of the continuous values.<br/>\n"
   ]
  },
  {
   "cell_type": "code",
   "execution_count": 28,
   "metadata": {},
   "outputs": [
    {
     "data": {
      "text/plain": [
       "array([[<matplotlib.axes._subplots.AxesSubplot object at 0x0000020B485DFA08>,\n",
       "        <matplotlib.axes._subplots.AxesSubplot object at 0x0000020B485FD4C8>],\n",
       "       [<matplotlib.axes._subplots.AxesSubplot object at 0x0000020B48631088>,\n",
       "        <matplotlib.axes._subplots.AxesSubplot object at 0x0000020B48660888>]],\n",
       "      dtype=object)"
      ]
     },
     "execution_count": 28,
     "metadata": {},
     "output_type": "execute_result"
    },
    {
     "data": {
      "image/png": "[encoded data removed]",
      "text/plain": [
       "<Figure size 432x288 with 4 Axes>"
      ]
     },
     "metadata": {
      "needs_background": "light"
     },
     "output_type": "display_data"
    }
   ],
   "source": [
    "df.hist(bins = 10)"
   ]
  },
  {
   "cell_type": "markdown",
   "metadata": {},
   "source": [
    "R&D is more evenly spread across all the bins whereas the others are not."
   ]
  },
  {
   "cell_type": "markdown",
   "metadata": {},
   "source": [
    "Lets compute the correlation matrix to get an understanding of the correlation between profit and different kinds of expenditure.<br/>\n",
    "\n"
   ]
  },
  {
   "cell_type": "code",
   "execution_count": 4,
   "metadata": {},
   "outputs": [
    {
     "data": {
      "text/html": [
       "<div>\n",
       "<style scoped>\n",
       "    .dataframe tbody tr th:only-of-type {\n",
       "        vertical-align: middle;\n",
       "    }\n",
       "\n",
       "    .dataframe tbody tr th {\n",
       "        vertical-align: top;\n",
       "    }\n",
       "\n",
       "    .dataframe thead th {\n",
       "        text-align: right;\n",
       "    }\n",
       "</style>\n",
       "<table border=\"1\" class=\"dataframe\">\n",
       "  <thead>\n",
       "    <tr style=\"text-align: right;\">\n",
       "      <th></th>\n",
       "      <th>R&amp;D Spend</th>\n",
       "      <th>Administration</th>\n",
       "      <th>Marketing Spend</th>\n",
       "      <th>Profit</th>\n",
       "    </tr>\n",
       "  </thead>\n",
       "  <tbody>\n",
       "    <tr>\n",
       "      <td>R&amp;D Spend</td>\n",
       "      <td>1.000000</td>\n",
       "      <td>0.241955</td>\n",
       "      <td>0.724248</td>\n",
       "      <td>0.972900</td>\n",
       "    </tr>\n",
       "    <tr>\n",
       "      <td>Administration</td>\n",
       "      <td>0.241955</td>\n",
       "      <td>1.000000</td>\n",
       "      <td>-0.032154</td>\n",
       "      <td>0.200717</td>\n",
       "    </tr>\n",
       "    <tr>\n",
       "      <td>Marketing Spend</td>\n",
       "      <td>0.724248</td>\n",
       "      <td>-0.032154</td>\n",
       "      <td>1.000000</td>\n",
       "      <td>0.747766</td>\n",
       "    </tr>\n",
       "    <tr>\n",
       "      <td>Profit</td>\n",
       "      <td>0.972900</td>\n",
       "      <td>0.200717</td>\n",
       "      <td>0.747766</td>\n",
       "      <td>1.000000</td>\n",
       "    </tr>\n",
       "  </tbody>\n",
       "</table>\n",
       "</div>"
      ],
      "text/plain": [
       "                 R&D Spend  Administration  Marketing Spend    Profit\n",
       "R&D Spend         1.000000        0.241955         0.724248  0.972900\n",
       "Administration    0.241955        1.000000        -0.032154  0.200717\n",
       "Marketing Spend   0.724248       -0.032154         1.000000  0.747766\n",
       "Profit            0.972900        0.200717         0.747766  1.000000"
      ]
     },
     "execution_count": 4,
     "metadata": {},
     "output_type": "execute_result"
    }
   ],
   "source": [
    "df.corr()"
   ]
  },
  {
   "cell_type": "markdown",
   "metadata": {},
   "source": [
    "If we were to choose one variable for the simple linear regression it would be R&D spend. It has a high correlation with profit. Having a high correlation means that there is clearly a relationship between the two."
   ]
  },
  {
   "cell_type": "markdown",
   "metadata": {},
   "source": [
    "## Simple Linear Regression\n",
    "\n",
    "Simple linear regression describes the case where we have a single predictor and a single outcome. We are interested in finding the \"line of best fit\" for the data. There are two constraints that guide us to the simple linear regression solution:\n",
    "\n",
    "1. \"line\": characterized by a slope and intercept\n",
    "2. \"best fit\": Minimizes the sum of squares and passes through the mean.\n",
    "\n",
    "More formally, given some set of points (X, Y), we want to find a line of the form <br/>\n",
    "$y = \\beta_1 x + \\beta_0$<br/>\n",
    "\n",
    "That minimizes <br/>\n",
    "$\\sum(y-\\hat{y})^2$<br/>\n",
    "\n",
    "Through a bit of algebra, we find:<br/>\n",
    "$\\hat{\\beta_1} = \\dfrac{\\sum((x_i-\\bar{x})(y_i-\\bar{y}))}{\\sum(x_i - \\bar{x})^2}$<br/>\n",
    "$\\hat{\\beta_0} = \\bar{y} - \\hat{\\beta_1}\\bar{x}$<br/>\n",
    "\n",
    "It is really easy to implement linear regression using packages. To understand the logic and workings of linear regression better, I am going to implement the logic as a function. The simple_linear_regression() function in regression_utils.py is used for this purpose.<br/>"
   ]
  },
  {
   "cell_type": "code",
   "execution_count": 5,
   "metadata": {},
   "outputs": [],
   "source": [
    "from regression_utils import simple_linear_regression"
   ]
  },
  {
   "cell_type": "code",
   "execution_count": 6,
   "metadata": {},
   "outputs": [],
   "source": [
    "x1 = df[\"R&D Spend\"]   #Predictor\n",
    "y1 = df[\"Profit\"]\n",
    "b1, b0 = simple_linear_regression(x1, y1)"
   ]
  },
  {
   "cell_type": "code",
   "execution_count": 7,
   "metadata": {},
   "outputs": [
    {
     "name": "stdout",
     "output_type": "stream",
     "text": [
      "Slope(b1) = 0.8542913709388089\n",
      "Intercept(b0) = 49032.89914125214\n"
     ]
    }
   ],
   "source": [
    "print(\"Slope(b1) = \" + str(b1))\n",
    "print(\"Intercept(b0) = \" + str(b0))"
   ]
  },
  {
   "cell_type": "markdown",
   "metadata": {},
   "source": [
    "### Prediction"
   ]
  },
  {
   "cell_type": "markdown",
   "metadata": {},
   "source": [
    "Let's predict profit using the model created above"
   ]
  },
  {
   "cell_type": "code",
   "execution_count": 8,
   "metadata": {},
   "outputs": [
    {
     "name": "stdout",
     "output_type": "stream",
     "text": [
      "The profit for company that spends $50000 on R&D is:  91747.46768819258\n",
      "The profit for company that spends $75000 on R&D is:  113104.75196166281\n",
      "The profit for company that spends $100000 on R&D is:  134462.03623513304\n",
      "The profit for company that spends $200000 on R&D is:  219891.17332901392\n"
     ]
    }
   ],
   "source": [
    "y = b0 + np.dot(x1,b1)\n",
    "print('The profit for company that spends $50000 on R&D is: ', b0 + np.dot(50000,b1))\n",
    "\n",
    "y = b0 + np.dot(x1,b1)\n",
    "print('The profit for company that spends $75000 on R&D is: ', b0 + np.dot(75000,b1))\n",
    "\n",
    "y = b0 + np.dot(x1,b1)\n",
    "print('The profit for company that spends $100000 on R&D is: ', b0 + np.dot(100000,b1))\n",
    "\n",
    "y = b0 + np.dot(x1,b1)\n",
    "print('The profit for company that spends $200000 on R&D is: ', b0 + np.dot(200000,b1))"
   ]
  },
  {
   "cell_type": "markdown",
   "metadata": {},
   "source": [
    "### Standardization of features"
   ]
  },
  {
   "cell_type": "markdown",
   "metadata": {},
   "source": [
    "Feature standardization makes the values of each feature in the data have zero-mean and unit-variance. This method is widely used for normalization in many machine learning algorithms. The general method of calculation is to determine the distribution mean and standard deviation for each feature. Next we subtract the mean from each feature. Then we divide the values of each feature by its standard deviation.\n",
    "\n",
    "$x'$ = ($x$ - $\\bar{x}$)/$\\sigma$ \n",
    "\n",
    "where $x$ is the original feature vector,\n",
    "$\\bar{x}$ is the mean of the feature vector and\n",
    "$\\sigma$ is its standard deviation.\n",
    "This is also called Z-score Normalization. One advantage of using normalization is to put data on a common scale when it follows a normal distribution. <br/>\n",
    "Based on previous graphs we know that the data isn't normally distributed so it might not be a good idea to normalize here."
   ]
  },
  {
   "cell_type": "code",
   "execution_count": 9,
   "metadata": {},
   "outputs": [],
   "source": [
    "from sklearn.preprocessing import StandardScaler\n",
    "x1 = df[\"R&D Spend\"].values.reshape(-1,1)\n",
    "scaler = StandardScaler()\n",
    "x1 = scaler.fit_transform(x1)\n",
    "y1 = df[\"Profit\"].values.reshape(-1,1)\n",
    "b1, b0 = simple_linear_regression(x1, y1)"
   ]
  },
  {
   "cell_type": "markdown",
   "metadata": {},
   "source": [
    "Let us check if the slope and intercept have changed"
   ]
  },
  {
   "cell_type": "code",
   "execution_count": 10,
   "metadata": {},
   "outputs": [
    {
     "name": "stdout",
     "output_type": "stream",
     "text": [
      "Slope(b1) = 38819.78205265858\n",
      "Intercept(b0) = 112012.63920000002\n"
     ]
    }
   ],
   "source": [
    "print(\"Slope(b1) = \" + str(b1))\n",
    "print(\"Intercept(b0) = \" + str(b0))"
   ]
  },
  {
   "cell_type": "markdown",
   "metadata": {},
   "source": [
    "## Multiple Linear Regression\n",
    "\n",
    "In the big data era, it is highly unlikely that we are interested in the effect of a single variable on another. To simultaneously account for the effects of multiple variables, we use multiple regression (which accounts for the covariances between predictors).\n",
    "\n",
    "While the algorithmic solution to multiple regression exists, it is easier to conceptualize in terms of linear algebra. The optimal $\\hat{\\beta}$ vector that minimizes the residual sum of squares is:\n",
    "\n",
    "$\\hat{\\beta} = (X^TX)^{-1}X^Ty $\n",
    "\n",
    "\n",
    "Let us perform multiple linear regression on the dataset with predictors as R&D Spend, Administration, Marketing Spend, State and outcome as Profit.\n",
    "\n",
    "R&D Spend, Administration and Marketing Spend are continuous values whereas State contains discrete values. State can only take on the values New York, California or Florida. We need to perform one-hot encoding on State values for it to be processed in the model. One hot encoding is a process by which categorical variables are converted into a form that could be provided to ML algorithms to do a better job in prediction. The code for performing one-hot encoding is provided below."
   ]
  },
  {
   "cell_type": "code",
   "execution_count": 11,
   "metadata": {},
   "outputs": [],
   "source": [
    "from regression_utils import multiple_regression"
   ]
  },
  {
   "cell_type": "code",
   "execution_count": 12,
   "metadata": {},
   "outputs": [],
   "source": [
    "x2 = df[[\"R&D Spend\",\"Administration\",\"Marketing Spend\"]]\n",
    "one_hot = pd.get_dummies(df[[\"State\"]])\n",
    "x2 = pd.concat([x2,one_hot],axis=1)\n",
    "\n",
    "\n",
    "y2 = df[\"Profit\"].values\n",
    "bhat = multiple_regression(x2, y2)"
   ]
  },
  {
   "cell_type": "code",
   "execution_count": 13,
   "metadata": {
    "scrolled": true
   },
   "outputs": [
    {
     "name": "stdout",
     "output_type": "stream",
     "text": [
      "[ 9.44921336e+04  1.19308930e+00  2.04709899e-01  2.99091114e-02\n",
      " -1.46924354e+05 -1.97962143e+05 -2.29026604e+05]\n"
     ]
    }
   ],
   "source": [
    "print(bhat)"
   ]
  },
  {
   "cell_type": "markdown",
   "metadata": {},
   "source": [
    "### Goodness of fit\n",
    "\n",
    "A model can always make predictions. But it is important to determine how good the model is.\n",
    "How do we know that our model captures the data well? When evaluating model fit, a good metric is $R^2$, which corresponds to the amount of variance explained by the model. The formula for $R^2$ is the following:\n",
    "\n",
    "$R^2$ = $1 - \\dfrac{RSS}{TSS}$<br/>\n",
    "where:<br/>\n",
    "$RSS = \\Sigma(y - \\hat{y})^2$<br/>\n",
    "$TSS = \\Sigma(y - \\bar{y})^2$<br/>\n",
    "\n",
    "$R^2$ is also one metric for comparing models against each other. It is intuitive to say that the model that explains more variation in the data is a better fit than one that explains less variation. We are going to implement the model using r-squared calculation in a user-defined function. We can obviously use library functions as well."
   ]
  },
  {
   "cell_type": "code",
   "execution_count": 14,
   "metadata": {},
   "outputs": [],
   "source": [
    "from regression_utils import calculate_r2\n",
    "from regression_utils import predict"
   ]
  },
  {
   "cell_type": "markdown",
   "metadata": {},
   "source": [
    "#### R2 score for model with \"R&D Spend\" as predictor and \"Profit\" as outcome"
   ]
  },
  {
   "cell_type": "code",
   "execution_count": 15,
   "metadata": {},
   "outputs": [
    {
     "name": "stdout",
     "output_type": "stream",
     "text": [
      "The R2 score is:  0.9465353160804392\n"
     ]
    }
   ],
   "source": [
    "x = df[[\"R&D Spend\"]].values.reshape(-1,1)\n",
    "x = scaler.fit_transform(x)\n",
    "y = df[[\"Profit\"]].values.reshape(-1,1)\n",
    "\n",
    "bhat, b0 = simple_linear_regression(x, y)\n",
    "pred = bhat*x1+b0\n",
    "r2_1 = calculate_r2(y, pred)\n",
    "print('The R2 score is: ', r2_1)"
   ]
  },
  {
   "cell_type": "markdown",
   "metadata": {},
   "source": [
    "#### R2 score for model with \"Marketing Spend\" as predictor and \"Profit\" as outcome"
   ]
  },
  {
   "cell_type": "code",
   "execution_count": 16,
   "metadata": {},
   "outputs": [
    {
     "name": "stdout",
     "output_type": "stream",
     "text": [
      "The R2 score is:  0.8958496631614128\n"
     ]
    }
   ],
   "source": [
    "x = df[[\"Marketing Spend\"]].values.reshape(-1,1)\n",
    "x = scaler.fit_transform(x)\n",
    "y = df[[\"Profit\"]].values.reshape(-1,1)\n",
    "\n",
    "bhat, b0 = simple_linear_regression(x, y)\n",
    "pred = bhat*x1+b0\n",
    "r2_2 = calculate_r2(y, pred)\n",
    "print('The R2 score is: ', r2_2)"
   ]
  },
  {
   "cell_type": "markdown",
   "metadata": {},
   "source": [
    "#### R2 score for model with \"Administration\" as predictor and \"Profit\" as outcome"
   ]
  },
  {
   "cell_type": "code",
   "execution_count": 17,
   "metadata": {},
   "outputs": [
    {
     "name": "stdout",
     "output_type": "stream",
     "text": [
      "The R2 score is:  0.35026734469085263\n"
     ]
    }
   ],
   "source": [
    "x = df[[\"Administration\"]].values.reshape(-1,1)\n",
    "x = scaler.fit_transform(x)\n",
    "y = df[[\"Profit\"]].values.reshape(-1,1)\n",
    "\n",
    "bhat, b0 = simple_linear_regression(x, y)\n",
    "pred = bhat*x1+b0\n",
    "r2_3 = calculate_r2(y, pred)\n",
    "print('The R2 score is: ', r2_3)"
   ]
  },
  {
   "cell_type": "markdown",
   "metadata": {},
   "source": [
    "#### R2 score for model with \"State\" as predictor and \"Profit\" as outcome"
   ]
  },
  {
   "cell_type": "code",
   "execution_count": 18,
   "metadata": {},
   "outputs": [
    {
     "name": "stdout",
     "output_type": "stream",
     "text": [
      "The R2 score is:  -1.3655874280107976\n"
     ]
    }
   ],
   "source": [
    "one_hot = pd.get_dummies(df[[\"State\"]])\n",
    "x = pd.concat([one_hot],axis=1)\n",
    "y = df[[\"Profit\"]].values\n",
    "\n",
    "bhat = multiple_regression(x, y)\n",
    "yhat = predict(x, bhat)\n",
    "r2_4 = calculate_r2(y, yhat)\n",
    "print('The R2 score is: ', r2_4)"
   ]
  },
  {
   "cell_type": "markdown",
   "metadata": {},
   "source": [
    "Adding features one by one and compute R2 score of different models"
   ]
  },
  {
   "cell_type": "markdown",
   "metadata": {},
   "source": [
    "#### R2 score for model with \"R&D Spend\" as predictor and \"Profit\" as outcome"
   ]
  },
  {
   "cell_type": "code",
   "execution_count": 19,
   "metadata": {},
   "outputs": [
    {
     "name": "stdout",
     "output_type": "stream",
     "text": [
      "The R2 score is:  Profit    0.946535\n",
      "dtype: float64\n"
     ]
    }
   ],
   "source": [
    "x = df[[\"R&D Spend\"]]\n",
    "y = df[[\"Profit\"]]\n",
    "\n",
    "bhat = multiple_regression(x, y)\n",
    "yhat = predict(x, bhat)\n",
    "r2_5 = calculate_r2(y, yhat)\n",
    "print('The R2 score is: ', r2_5)"
   ]
  },
  {
   "cell_type": "markdown",
   "metadata": {},
   "source": [
    "#### R2 score for model with \"R&D Spend\",\"Marketing Spend\" as predictors and \"Profit\" as outcome"
   ]
  },
  {
   "cell_type": "code",
   "execution_count": 20,
   "metadata": {},
   "outputs": [
    {
     "name": "stdout",
     "output_type": "stream",
     "text": [
      "The R2 score is:  Profit    0.95045\n",
      "dtype: float64\n"
     ]
    }
   ],
   "source": [
    "x = df[[\"R&D Spend\", \"Marketing Spend\"]]\n",
    "y = df[[\"Profit\"]]\n",
    "\n",
    "bhat = multiple_regression(x, y)\n",
    "yhat = predict(x, bhat)\n",
    "r2_6 = calculate_r2(y, yhat)\n",
    "print('The R2 score is: ', r2_6)"
   ]
  },
  {
   "cell_type": "markdown",
   "metadata": {},
   "source": [
    "#### R2 score for model with \"R&D Spend\",\"Marketing Spend\",\"Administration\" as predictors and \"Profit\" as outcome"
   ]
  },
  {
   "cell_type": "code",
   "execution_count": 21,
   "metadata": {},
   "outputs": [
    {
     "name": "stdout",
     "output_type": "stream",
     "text": [
      "The R2 score is:  Profit    0.950746\n",
      "dtype: float64\n"
     ]
    }
   ],
   "source": [
    "x = df[[\"R&D Spend\", \"Marketing Spend\", \"Administration\"]]\n",
    "y = df[[\"Profit\"]]\n",
    "\n",
    "bhat = multiple_regression(x, y)\n",
    "yhat = predict(x, bhat)\n",
    "r2_7 = calculate_r2(y, yhat)\n",
    "print('The R2 score is: ', r2_7)"
   ]
  },
  {
   "cell_type": "markdown",
   "metadata": {},
   "source": [
    "#### R2 score for model with \"R&D Spend\",\"Marketing Spend\",\"Administration\",\"State\" as predictors and \"Profit\" as outcome"
   ]
  },
  {
   "cell_type": "code",
   "execution_count": 22,
   "metadata": {},
   "outputs": [
    {
     "name": "stdout",
     "output_type": "stream",
     "text": [
      "The R2 score is:  Profit   -1.418136\n",
      "dtype: float64\n"
     ]
    }
   ],
   "source": [
    "x = df[[\"R&D Spend\", \"Marketing Spend\", \"Administration\"]]\n",
    "one_hot = pd.get_dummies(df[[\"State\"]])\n",
    "x = pd.concat([x,one_hot],axis=1)\n",
    "y = df[[\"Profit\"]]\n",
    "\n",
    "bhat = multiple_regression(x, y)\n",
    "yhat = predict(x, bhat)\n",
    "r2_8 = calculate_r2(y, yhat)\n",
    "print('The R2 score is: ', r2_8)"
   ]
  },
  {
   "cell_type": "markdown",
   "metadata": {},
   "source": [
    "Wait a minute, $R^2$ is always going up as we keep adding features? \n",
    "\n",
    "This is one drawback of only using $R^2$ to evaluate your model. Adding predictors will always improve the predictive ability of your model, though it may not be meaningful.\n",
    "\n",
    "That is to say, we are not necessarily interested in making a perfect prediciton of our data. If we were, we would always use all of the predictors available. Rather, we are interested in the most predictive features, in the hopes that we can create a simpler model that performs nearly as well.\n",
    "\n",
    "This is why we consider another metric, Adjusted R2.\n",
    "The adjusted R-squared increases only if the new term improves the model more than would be expected by chance.\n",
    "Using Adjusted R2 score, please give the most relevant combination of predictors in determining the profit of the startup.\n",
    "\n",
    "\n",
    "$AdjustedR^2$ = $1 - \\dfrac{(1-R^2)(n-1)}{(n-k-1)}$<br/>\n",
    "where:<br/>\n",
    "n = number of samples<br/>\n",
    "k = number of features"
   ]
  },
  {
   "cell_type": "code",
   "execution_count": 23,
   "metadata": {},
   "outputs": [],
   "source": [
    "from regression_utils import calculate_adjusted_r2"
   ]
  },
  {
   "cell_type": "markdown",
   "metadata": {},
   "source": [
    "#### Adjusted R2 score for model with \"R&D Spend\" as predictor and \"Profit\" as outcome"
   ]
  },
  {
   "cell_type": "code",
   "execution_count": 24,
   "metadata": {},
   "outputs": [
    {
     "data": {
      "text/plain": [
       "0.9454214684987816"
      ]
     },
     "execution_count": 24,
     "metadata": {},
     "output_type": "execute_result"
    }
   ],
   "source": [
    "n = np.shape(x)[0]\n",
    "k = 1\n",
    "\n",
    "calculate_adjusted_r2(r2_1, n, k)"
   ]
  },
  {
   "cell_type": "markdown",
   "metadata": {},
   "source": [
    "#### Adjusted R2 score for model with \"R&D Spend\",\"Marketing Spend\" as predictors and \"Profit\" as outcome"
   ]
  },
  {
   "cell_type": "code",
   "execution_count": 25,
   "metadata": {},
   "outputs": [
    {
     "data": {
      "text/plain": [
       "0.8914177339342388"
      ]
     },
     "execution_count": 25,
     "metadata": {},
     "output_type": "execute_result"
    }
   ],
   "source": [
    "n = np.shape(x)[0]\n",
    "k = 2\n",
    "\n",
    "calculate_adjusted_r2(r2_2, n, k)"
   ]
  },
  {
   "cell_type": "markdown",
   "metadata": {},
   "source": [
    "#### Adjusted R2 score for model with \"R&D Spend\",\"Marketing Spend\",\"Administration\" as predictors and \"Profit\" as outcome"
   ]
  },
  {
   "cell_type": "code",
   "execution_count": 26,
   "metadata": {},
   "outputs": [
    {
     "data": {
      "text/plain": [
       "0.30789347586634297"
      ]
     },
     "execution_count": 26,
     "metadata": {},
     "output_type": "execute_result"
    }
   ],
   "source": [
    "n = np.shape(x)[0]\n",
    "k = 3\n",
    "\n",
    "calculate_adjusted_r2(r2_3, n, k)"
   ]
  },
  {
   "cell_type": "markdown",
   "metadata": {},
   "source": [
    "#### Adjusted R2 score for model with \"R&D Spend\",\"Marketing Spend\",\"Administration\",\"State\" as predictors and \"Profit\" as outcome\n"
   ]
  },
  {
   "cell_type": "code",
   "execution_count": 27,
   "metadata": {},
   "outputs": [
    {
     "data": {
      "text/plain": [
       "-1.5758618660562016"
      ]
     },
     "execution_count": 27,
     "metadata": {},
     "output_type": "execute_result"
    }
   ],
   "source": [
    "n = np.shape(x)[0]\n",
    "k = 4\n",
    "\n",
    "calculate_adjusted_r2(r2_4, n, k)"
   ]
  },
  {
   "cell_type": "markdown",
   "metadata": {},
   "source": [
    "\"R&D Spend\",\"Marketing Spend\" turn out to be the best predictors with \"Profit\" as outcome"
   ]
  }
 ],
 "metadata": {
  "kernelspec": {
   "display_name": "Python 3",
   "language": "python",
   "name": "python3"
  },
  "language_info": {
   "codemirror_mode": {
    "name": "ipython",
    "version": 3
   },
   "file_extension": ".py",
   "mimetype": "text/x-python",
   "name": "python",
   "nbconvert_exporter": "python",
   "pygments_lexer": "ipython3",
   "version": "3.7.4"
  }
 },
 "nbformat": 4,
 "nbformat_minor": 4
}
